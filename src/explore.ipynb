{
    "cells": [
        {
            "cell_type": "markdown",
            "metadata": {},
            "source": [
                "## Importado de los datos"
            ]
        },
        {
            "cell_type": "code",
            "execution_count": 4,
            "metadata": {},
            "outputs": [],
            "source": [
                "import pandas as pd\n",
                "import numpy as np\n",
                "import matplotlib.pyplot as plt\n",
                "import seaborn as sns"
            ]
        },
        {
            "cell_type": "code",
            "execution_count": 10,
            "metadata": {},
            "outputs": [],
            "source": [
                "# Importo el csv desde una URL y lo guardo\n",
                "\n",
                "url = 'https://raw.githubusercontent.com/4GeeksAcademy/logistic-regression-project-tutorial/main/bank-marketing-campaign-data.csv'\n",
                "\n",
                "data = pd.read_csv(url, sep=';' )\n",
                "\n",
                "# Guardo el archivo\n",
                "data.to_csv('../data/raw/Data.csv', index = False )"
            ]
        },
        {
            "cell_type": "markdown",
            "metadata": {},
            "source": [
                "## Analisis de datos"
            ]
        },
        {
            "cell_type": "markdown",
            "metadata": {},
            "source": [
                "#### Primeras 10 columnas para contextualizar el Dataframe\n"
            ]
        },
        {
            "cell_type": "code",
            "execution_count": null,
            "metadata": {},
            "outputs": [
                {
                    "data": {
                        "application/vnd.microsoft.datawrangler.viewer.v0+json": {
                            "columns": [
                                {
                                    "name": "index",
                                    "rawType": "int64",
                                    "type": "integer"
                                },
                                {
                                    "name": "age",
                                    "rawType": "int64",
                                    "type": "integer"
                                },
                                {
                                    "name": "job",
                                    "rawType": "object",
                                    "type": "string"
                                },
                                {
                                    "name": "marital",
                                    "rawType": "object",
                                    "type": "string"
                                },
                                {
                                    "name": "education",
                                    "rawType": "object",
                                    "type": "string"
                                },
                                {
                                    "name": "default",
                                    "rawType": "object",
                                    "type": "string"
                                },
                                {
                                    "name": "housing",
                                    "rawType": "object",
                                    "type": "string"
                                },
                                {
                                    "name": "loan",
                                    "rawType": "object",
                                    "type": "string"
                                },
                                {
                                    "name": "contact",
                                    "rawType": "object",
                                    "type": "string"
                                },
                                {
                                    "name": "month",
                                    "rawType": "object",
                                    "type": "string"
                                },
                                {
                                    "name": "day_of_week",
                                    "rawType": "object",
                                    "type": "string"
                                },
                                {
                                    "name": "duration",
                                    "rawType": "int64",
                                    "type": "integer"
                                },
                                {
                                    "name": "campaign",
                                    "rawType": "int64",
                                    "type": "integer"
                                },
                                {
                                    "name": "pdays",
                                    "rawType": "int64",
                                    "type": "integer"
                                },
                                {
                                    "name": "previous",
                                    "rawType": "int64",
                                    "type": "integer"
                                },
                                {
                                    "name": "poutcome",
                                    "rawType": "object",
                                    "type": "string"
                                },
                                {
                                    "name": "emp.var.rate",
                                    "rawType": "float64",
                                    "type": "float"
                                },
                                {
                                    "name": "cons.price.idx",
                                    "rawType": "float64",
                                    "type": "float"
                                },
                                {
                                    "name": "cons.conf.idx",
                                    "rawType": "float64",
                                    "type": "float"
                                },
                                {
                                    "name": "euribor3m",
                                    "rawType": "float64",
                                    "type": "float"
                                },
                                {
                                    "name": "nr.employed",
                                    "rawType": "float64",
                                    "type": "float"
                                },
                                {
                                    "name": "y",
                                    "rawType": "object",
                                    "type": "string"
                                }
                            ],
                            "conversionMethod": "pd.DataFrame",
                            "ref": "f858b6a1-d022-4a7a-a0c1-60389b4cc507",
                            "rows": [
                                [
                                    "0",
                                    "56",
                                    "housemaid",
                                    "married",
                                    "basic.4y",
                                    "no",
                                    "no",
                                    "no",
                                    "telephone",
                                    "may",
                                    "mon",
                                    "261",
                                    "1",
                                    "999",
                                    "0",
                                    "nonexistent",
                                    "1.1",
                                    "93.994",
                                    "-36.4",
                                    "4.857",
                                    "5191.0",
                                    "no"
                                ],
                                [
                                    "1",
                                    "57",
                                    "services",
                                    "married",
                                    "high.school",
                                    "unknown",
                                    "no",
                                    "no",
                                    "telephone",
                                    "may",
                                    "mon",
                                    "149",
                                    "1",
                                    "999",
                                    "0",
                                    "nonexistent",
                                    "1.1",
                                    "93.994",
                                    "-36.4",
                                    "4.857",
                                    "5191.0",
                                    "no"
                                ],
                                [
                                    "2",
                                    "37",
                                    "services",
                                    "married",
                                    "high.school",
                                    "no",
                                    "yes",
                                    "no",
                                    "telephone",
                                    "may",
                                    "mon",
                                    "226",
                                    "1",
                                    "999",
                                    "0",
                                    "nonexistent",
                                    "1.1",
                                    "93.994",
                                    "-36.4",
                                    "4.857",
                                    "5191.0",
                                    "no"
                                ],
                                [
                                    "3",
                                    "40",
                                    "admin.",
                                    "married",
                                    "basic.6y",
                                    "no",
                                    "no",
                                    "no",
                                    "telephone",
                                    "may",
                                    "mon",
                                    "151",
                                    "1",
                                    "999",
                                    "0",
                                    "nonexistent",
                                    "1.1",
                                    "93.994",
                                    "-36.4",
                                    "4.857",
                                    "5191.0",
                                    "no"
                                ],
                                [
                                    "4",
                                    "56",
                                    "services",
                                    "married",
                                    "high.school",
                                    "no",
                                    "no",
                                    "yes",
                                    "telephone",
                                    "may",
                                    "mon",
                                    "307",
                                    "1",
                                    "999",
                                    "0",
                                    "nonexistent",
                                    "1.1",
                                    "93.994",
                                    "-36.4",
                                    "4.857",
                                    "5191.0",
                                    "no"
                                ]
                            ],
                            "shape": {
                                "columns": 21,
                                "rows": 5
                            }
                        },
                        "text/html": [
                            "<div>\n",
                            "<style scoped>\n",
                            "    .dataframe tbody tr th:only-of-type {\n",
                            "        vertical-align: middle;\n",
                            "    }\n",
                            "\n",
                            "    .dataframe tbody tr th {\n",
                            "        vertical-align: top;\n",
                            "    }\n",
                            "\n",
                            "    .dataframe thead th {\n",
                            "        text-align: right;\n",
                            "    }\n",
                            "</style>\n",
                            "<table border=\"1\" class=\"dataframe\">\n",
                            "  <thead>\n",
                            "    <tr style=\"text-align: right;\">\n",
                            "      <th></th>\n",
                            "      <th>age</th>\n",
                            "      <th>job</th>\n",
                            "      <th>marital</th>\n",
                            "      <th>education</th>\n",
                            "      <th>default</th>\n",
                            "      <th>housing</th>\n",
                            "      <th>loan</th>\n",
                            "      <th>contact</th>\n",
                            "      <th>month</th>\n",
                            "      <th>day_of_week</th>\n",
                            "      <th>...</th>\n",
                            "      <th>campaign</th>\n",
                            "      <th>pdays</th>\n",
                            "      <th>previous</th>\n",
                            "      <th>poutcome</th>\n",
                            "      <th>emp.var.rate</th>\n",
                            "      <th>cons.price.idx</th>\n",
                            "      <th>cons.conf.idx</th>\n",
                            "      <th>euribor3m</th>\n",
                            "      <th>nr.employed</th>\n",
                            "      <th>y</th>\n",
                            "    </tr>\n",
                            "  </thead>\n",
                            "  <tbody>\n",
                            "    <tr>\n",
                            "      <th>0</th>\n",
                            "      <td>56</td>\n",
                            "      <td>housemaid</td>\n",
                            "      <td>married</td>\n",
                            "      <td>basic.4y</td>\n",
                            "      <td>no</td>\n",
                            "      <td>no</td>\n",
                            "      <td>no</td>\n",
                            "      <td>telephone</td>\n",
                            "      <td>may</td>\n",
                            "      <td>mon</td>\n",
                            "      <td>...</td>\n",
                            "      <td>1</td>\n",
                            "      <td>999</td>\n",
                            "      <td>0</td>\n",
                            "      <td>nonexistent</td>\n",
                            "      <td>1.1</td>\n",
                            "      <td>93.994</td>\n",
                            "      <td>-36.4</td>\n",
                            "      <td>4.857</td>\n",
                            "      <td>5191.0</td>\n",
                            "      <td>no</td>\n",
                            "    </tr>\n",
                            "    <tr>\n",
                            "      <th>1</th>\n",
                            "      <td>57</td>\n",
                            "      <td>services</td>\n",
                            "      <td>married</td>\n",
                            "      <td>high.school</td>\n",
                            "      <td>unknown</td>\n",
                            "      <td>no</td>\n",
                            "      <td>no</td>\n",
                            "      <td>telephone</td>\n",
                            "      <td>may</td>\n",
                            "      <td>mon</td>\n",
                            "      <td>...</td>\n",
                            "      <td>1</td>\n",
                            "      <td>999</td>\n",
                            "      <td>0</td>\n",
                            "      <td>nonexistent</td>\n",
                            "      <td>1.1</td>\n",
                            "      <td>93.994</td>\n",
                            "      <td>-36.4</td>\n",
                            "      <td>4.857</td>\n",
                            "      <td>5191.0</td>\n",
                            "      <td>no</td>\n",
                            "    </tr>\n",
                            "    <tr>\n",
                            "      <th>2</th>\n",
                            "      <td>37</td>\n",
                            "      <td>services</td>\n",
                            "      <td>married</td>\n",
                            "      <td>high.school</td>\n",
                            "      <td>no</td>\n",
                            "      <td>yes</td>\n",
                            "      <td>no</td>\n",
                            "      <td>telephone</td>\n",
                            "      <td>may</td>\n",
                            "      <td>mon</td>\n",
                            "      <td>...</td>\n",
                            "      <td>1</td>\n",
                            "      <td>999</td>\n",
                            "      <td>0</td>\n",
                            "      <td>nonexistent</td>\n",
                            "      <td>1.1</td>\n",
                            "      <td>93.994</td>\n",
                            "      <td>-36.4</td>\n",
                            "      <td>4.857</td>\n",
                            "      <td>5191.0</td>\n",
                            "      <td>no</td>\n",
                            "    </tr>\n",
                            "    <tr>\n",
                            "      <th>3</th>\n",
                            "      <td>40</td>\n",
                            "      <td>admin.</td>\n",
                            "      <td>married</td>\n",
                            "      <td>basic.6y</td>\n",
                            "      <td>no</td>\n",
                            "      <td>no</td>\n",
                            "      <td>no</td>\n",
                            "      <td>telephone</td>\n",
                            "      <td>may</td>\n",
                            "      <td>mon</td>\n",
                            "      <td>...</td>\n",
                            "      <td>1</td>\n",
                            "      <td>999</td>\n",
                            "      <td>0</td>\n",
                            "      <td>nonexistent</td>\n",
                            "      <td>1.1</td>\n",
                            "      <td>93.994</td>\n",
                            "      <td>-36.4</td>\n",
                            "      <td>4.857</td>\n",
                            "      <td>5191.0</td>\n",
                            "      <td>no</td>\n",
                            "    </tr>\n",
                            "    <tr>\n",
                            "      <th>4</th>\n",
                            "      <td>56</td>\n",
                            "      <td>services</td>\n",
                            "      <td>married</td>\n",
                            "      <td>high.school</td>\n",
                            "      <td>no</td>\n",
                            "      <td>no</td>\n",
                            "      <td>yes</td>\n",
                            "      <td>telephone</td>\n",
                            "      <td>may</td>\n",
                            "      <td>mon</td>\n",
                            "      <td>...</td>\n",
                            "      <td>1</td>\n",
                            "      <td>999</td>\n",
                            "      <td>0</td>\n",
                            "      <td>nonexistent</td>\n",
                            "      <td>1.1</td>\n",
                            "      <td>93.994</td>\n",
                            "      <td>-36.4</td>\n",
                            "      <td>4.857</td>\n",
                            "      <td>5191.0</td>\n",
                            "      <td>no</td>\n",
                            "    </tr>\n",
                            "  </tbody>\n",
                            "</table>\n",
                            "<p>5 rows × 21 columns</p>\n",
                            "</div>"
                        ],
                        "text/plain": [
                            "   age        job  marital    education  default housing loan    contact  \\\n",
                            "0   56  housemaid  married     basic.4y       no      no   no  telephone   \n",
                            "1   57   services  married  high.school  unknown      no   no  telephone   \n",
                            "2   37   services  married  high.school       no     yes   no  telephone   \n",
                            "3   40     admin.  married     basic.6y       no      no   no  telephone   \n",
                            "4   56   services  married  high.school       no      no  yes  telephone   \n",
                            "\n",
                            "  month day_of_week  ...  campaign  pdays  previous     poutcome emp.var.rate  \\\n",
                            "0   may         mon  ...         1    999         0  nonexistent          1.1   \n",
                            "1   may         mon  ...         1    999         0  nonexistent          1.1   \n",
                            "2   may         mon  ...         1    999         0  nonexistent          1.1   \n",
                            "3   may         mon  ...         1    999         0  nonexistent          1.1   \n",
                            "4   may         mon  ...         1    999         0  nonexistent          1.1   \n",
                            "\n",
                            "   cons.price.idx  cons.conf.idx  euribor3m  nr.employed   y  \n",
                            "0          93.994          -36.4      4.857       5191.0  no  \n",
                            "1          93.994          -36.4      4.857       5191.0  no  \n",
                            "2          93.994          -36.4      4.857       5191.0  no  \n",
                            "3          93.994          -36.4      4.857       5191.0  no  \n",
                            "4          93.994          -36.4      4.857       5191.0  no  \n",
                            "\n",
                            "[5 rows x 21 columns]"
                        ]
                    },
                    "execution_count": 11,
                    "metadata": {},
                    "output_type": "execute_result"
                }
            ],
            "source": [
                "data.head()"
            ]
        },
        {
            "cell_type": "markdown",
            "metadata": {},
            "source": [
                "### La siguiente informacion la usamos para contextualizar y saber que columnas son importantes o no"
            ]
        },
        {
            "cell_type": "code",
            "execution_count": 14,
            "metadata": {},
            "outputs": [
                {
                    "data": {
                        "text/plain": [
                            "(41188, 21)"
                        ]
                    },
                    "execution_count": 14,
                    "metadata": {},
                    "output_type": "execute_result"
                }
            ],
            "source": [
                "data.shape"
            ]
        },
        {
            "cell_type": "code",
            "execution_count": 27,
            "metadata": {},
            "outputs": [
                {
                    "data": {
                        "text/plain": [
                            "np.int64(12)"
                        ]
                    },
                    "execution_count": 27,
                    "metadata": {},
                    "output_type": "execute_result"
                }
            ],
            "source": [
                "data.duplicated().sum()"
            ]
        },
        {
            "cell_type": "code",
            "execution_count": 15,
            "metadata": {},
            "outputs": [
                {
                    "name": "stdout",
                    "output_type": "stream",
                    "text": [
                        "<class 'pandas.core.frame.DataFrame'>\n",
                        "RangeIndex: 41188 entries, 0 to 41187\n",
                        "Data columns (total 21 columns):\n",
                        " #   Column          Non-Null Count  Dtype  \n",
                        "---  ------          --------------  -----  \n",
                        " 0   age             41188 non-null  int64  \n",
                        " 1   job             41188 non-null  object \n",
                        " 2   marital         41188 non-null  object \n",
                        " 3   education       41188 non-null  object \n",
                        " 4   default         41188 non-null  object \n",
                        " 5   housing         41188 non-null  object \n",
                        " 6   loan            41188 non-null  object \n",
                        " 7   contact         41188 non-null  object \n",
                        " 8   month           41188 non-null  object \n",
                        " 9   day_of_week     41188 non-null  object \n",
                        " 10  duration        41188 non-null  int64  \n",
                        " 11  campaign        41188 non-null  int64  \n",
                        " 12  pdays           41188 non-null  int64  \n",
                        " 13  previous        41188 non-null  int64  \n",
                        " 14  poutcome        41188 non-null  object \n",
                        " 15  emp.var.rate    41188 non-null  float64\n",
                        " 16  cons.price.idx  41188 non-null  float64\n",
                        " 17  cons.conf.idx   41188 non-null  float64\n",
                        " 18  euribor3m       41188 non-null  float64\n",
                        " 19  nr.employed     41188 non-null  float64\n",
                        " 20  y               41188 non-null  object \n",
                        "dtypes: float64(5), int64(5), object(11)\n",
                        "memory usage: 6.6+ MB\n"
                    ]
                }
            ],
            "source": [
                "data.info()"
            ]
        },
        {
            "cell_type": "code",
            "execution_count": 32,
            "metadata": {},
            "outputs": [
                {
                    "data": {
                        "text/plain": [
                            "{'age': 41110,\n",
                            " 'job': 41176,\n",
                            " 'marital': 41184,\n",
                            " 'education': 41180,\n",
                            " 'default': 41185,\n",
                            " 'housing': 41185,\n",
                            " 'loan': 41185,\n",
                            " 'contact': 41186,\n",
                            " 'month': 41178,\n",
                            " 'day_of_week': 41183,\n",
                            " 'duration': 39644,\n",
                            " 'campaign': 41146,\n",
                            " 'pdays': 41161,\n",
                            " 'previous': 41180,\n",
                            " 'poutcome': 41185,\n",
                            " 'emp.var.rate': 41178,\n",
                            " 'cons.price.idx': 41162,\n",
                            " 'cons.conf.idx': 41162,\n",
                            " 'euribor3m': 40872,\n",
                            " 'nr.employed': 41177,\n",
                            " 'y': 41186}"
                        ]
                    },
                    "execution_count": 32,
                    "metadata": {},
                    "output_type": "execute_result"
                }
            ],
            "source": [
                "# Compruebo duplicados por cada una de las columnas\n",
                "\n",
                "def comprobar_dup(dataframe):\n",
                "    duplicados = {col: int(dataframe[col].duplicated().sum()) for col in dataframe.columns}\n",
                "    return duplicados\n",
                "\n",
                "comprobar_dup(data)"
            ]
        },
        {
            "cell_type": "code",
            "execution_count": null,
            "metadata": {},
            "outputs": [],
            "source": [
                "# Quitamos duration, day_of_the_week, month, previous, previous, nr.employed\n",
                "\n"
            ]
        }
    ],
    "metadata": {
        "kernelspec": {
            "display_name": "Python 3",
            "language": "python",
            "name": "python3"
        },
        "language_info": {
            "codemirror_mode": {
                "name": "ipython",
                "version": 3
            },
            "file_extension": ".py",
            "mimetype": "text/x-python",
            "name": "python",
            "nbconvert_exporter": "python",
            "pygments_lexer": "ipython3",
            "version": "3.11.9"
        },
        "orig_nbformat": 4
    },
    "nbformat": 4,
    "nbformat_minor": 2
}
